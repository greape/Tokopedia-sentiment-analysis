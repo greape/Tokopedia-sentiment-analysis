{
 "cells": [
  {
   "cell_type": "markdown",
   "metadata": {},
   "source": [
    "# 1 - Introduction"
   ]
  },
  {
   "cell_type": "markdown",
   "metadata": {},
   "source": [
    "\n",
    "=================================================\n",
    "\n",
    "Nama : Dicky Gabriel Partogi Sarumpaet\n",
    "\n",
    "Deskripsi Tugas: Melakukan web scraping dan data analisa pada produk seblak di tokopedia.\n",
    "\n",
    "================================================="
   ]
  },
  {
   "cell_type": "markdown",
   "metadata": {},
   "source": [
    "# 2 - Import Library"
   ]
  },
  {
   "cell_type": "code",
   "execution_count": 31,
   "metadata": {},
   "outputs": [],
   "source": [
    "from google_play_scraper import app, Sort, reviews_all,reviews\n",
    "import pandas as pd\n",
    "import numpy as np\n",
    "import json, os, uuid"
   ]
  },
  {
   "cell_type": "code",
   "execution_count": 1,
   "metadata": {},
   "outputs": [],
   "source": [
    "import pandas as pd\n",
    "from bs4 import BeautifulSoup\n",
    "from selenium import webdriver\n",
    "from scipy import stats\n",
    "import numpy as np\n",
    "import seaborn as sbs\n",
    "import requests\n",
    "import time"
   ]
  },
  {
   "cell_type": "markdown",
   "metadata": {},
   "source": [
    "# 3 - Web Scraping"
   ]
  },
  {
   "cell_type": "code",
   "execution_count": 46,
   "metadata": {},
   "outputs": [],
   "source": [
    "result, continuation_token = reviews(\n",
    "    'com.tokopedia.tkpd',\n",
    "    lang='en', # defaults to 'en'\n",
    "    country='us', # defaults to 'us'\n",
    "    sort=Sort.NEWEST, # defaults to Sort.NEWEST\n",
    "    count=1000, # defaults to 100\n",
    ")"
   ]
  },
  {
   "cell_type": "code",
   "execution_count": 49,
   "metadata": {},
   "outputs": [],
   "source": [
    "df = pd.DataFrame(np.array(result).tolist())"
   ]
  },
  {
   "cell_type": "code",
   "execution_count": 50,
   "metadata": {},
   "outputs": [],
   "source": [
    "df_copy = df.copy()"
   ]
  },
  {
   "cell_type": "code",
   "execution_count": 51,
   "metadata": {},
   "outputs": [],
   "source": [
    "df.drop(columns={'reviewId','userImage', 'reviewCreatedVersion',\"thumbsUpCount\",\"replyContent\",\"repliedAt\"},inplace = True)\n",
    "df.rename(columns= {'score': 'rating', 'content': 'review_description', 'at': 'review_date'},inplace = True)"
   ]
  },
  {
   "cell_type": "code",
   "execution_count": 53,
   "metadata": {},
   "outputs": [
    {
     "data": {
      "text/html": [
       "<div>\n",
       "<style scoped>\n",
       "    .dataframe tbody tr th:only-of-type {\n",
       "        vertical-align: middle;\n",
       "    }\n",
       "\n",
       "    .dataframe tbody tr th {\n",
       "        vertical-align: top;\n",
       "    }\n",
       "\n",
       "    .dataframe thead th {\n",
       "        text-align: right;\n",
       "    }\n",
       "</style>\n",
       "<table border=\"1\" class=\"dataframe\">\n",
       "  <thead>\n",
       "    <tr style=\"text-align: right;\">\n",
       "      <th></th>\n",
       "      <th>userName</th>\n",
       "      <th>review_description</th>\n",
       "      <th>rating</th>\n",
       "      <th>review_date</th>\n",
       "      <th>appVersion</th>\n",
       "    </tr>\n",
       "  </thead>\n",
       "  <tbody>\n",
       "    <tr>\n",
       "      <th>0</th>\n",
       "      <td>Faradilla Putri</td>\n",
       "      <td>informasi tentang kurir yang mengantar paket t...</td>\n",
       "      <td>2</td>\n",
       "      <td>2024-02-16 13:28:16</td>\n",
       "      <td>None</td>\n",
       "    </tr>\n",
       "    <tr>\n",
       "      <th>1</th>\n",
       "      <td>Henry Wijaya</td>\n",
       "      <td>Ribet ngurus komplain. Penyelesaian masalah ti...</td>\n",
       "      <td>1</td>\n",
       "      <td>2024-02-16 13:20:30</td>\n",
       "      <td>3.252</td>\n",
       "    </tr>\n",
       "    <tr>\n",
       "      <th>2</th>\n",
       "      <td>Longlife Teaching</td>\n",
       "      <td>Tolong perbaiki glitch-nya. Mau dipake</td>\n",
       "      <td>2</td>\n",
       "      <td>2024-02-16 11:54:56</td>\n",
       "      <td>3.232</td>\n",
       "    </tr>\n",
       "    <tr>\n",
       "      <th>3</th>\n",
       "      <td>risna habibi</td>\n",
       "      <td>Kecamatan pengiriman nya sangat lambat</td>\n",
       "      <td>1</td>\n",
       "      <td>2024-02-16 11:45:50</td>\n",
       "      <td>3.252</td>\n",
       "    </tr>\n",
       "    <tr>\n",
       "      <th>4</th>\n",
       "      <td>Tjauw njuk lin Lin</td>\n",
       "      <td>Error</td>\n",
       "      <td>1</td>\n",
       "      <td>2024-02-16 11:44:12</td>\n",
       "      <td>None</td>\n",
       "    </tr>\n",
       "    <tr>\n",
       "      <th>...</th>\n",
       "      <td>...</td>\n",
       "      <td>...</td>\n",
       "      <td>...</td>\n",
       "      <td>...</td>\n",
       "      <td>...</td>\n",
       "    </tr>\n",
       "    <tr>\n",
       "      <th>995</th>\n",
       "      <td>Florence Angel</td>\n",
       "      <td>Cuma 1 kata yg pantas \"PENIPU\" buat cs tokped....</td>\n",
       "      <td>1</td>\n",
       "      <td>2023-12-28 19:51:46</td>\n",
       "      <td>3.247.1</td>\n",
       "    </tr>\n",
       "    <tr>\n",
       "      <th>996</th>\n",
       "      <td>Rian Saputra</td>\n",
       "      <td>Harga barang jauh lebih mahal dari toko lain +...</td>\n",
       "      <td>1</td>\n",
       "      <td>2023-12-28 19:26:37</td>\n",
       "      <td>3.242</td>\n",
       "    </tr>\n",
       "    <tr>\n",
       "      <th>997</th>\n",
       "      <td>Aniq Zack</td>\n",
       "      <td>Are kore yasui Kara kattoke Ima dake wa chansu...</td>\n",
       "      <td>5</td>\n",
       "      <td>2023-12-28 17:46:06</td>\n",
       "      <td>3.247.1</td>\n",
       "    </tr>\n",
       "    <tr>\n",
       "      <th>998</th>\n",
       "      <td>nesha Yurii kirana</td>\n",
       "      <td>😵‍💫😵‍💫😵‍💫</td>\n",
       "      <td>5</td>\n",
       "      <td>2023-12-28 17:41:57</td>\n",
       "      <td>None</td>\n",
       "    </tr>\n",
       "    <tr>\n",
       "      <th>999</th>\n",
       "      <td>Wahyu Zidan Saputra</td>\n",
       "      <td>Untuk kurir rekomendasi harusnya sebesar Tokop...</td>\n",
       "      <td>2</td>\n",
       "      <td>2023-12-28 15:56:26</td>\n",
       "      <td>3.247.1</td>\n",
       "    </tr>\n",
       "  </tbody>\n",
       "</table>\n",
       "<p>1000 rows × 5 columns</p>\n",
       "</div>"
      ],
      "text/plain": [
       "                userName                                 review_description  \\\n",
       "0        Faradilla Putri  informasi tentang kurir yang mengantar paket t...   \n",
       "1           Henry Wijaya  Ribet ngurus komplain. Penyelesaian masalah ti...   \n",
       "2      Longlife Teaching             Tolong perbaiki glitch-nya. Mau dipake   \n",
       "3           risna habibi             Kecamatan pengiriman nya sangat lambat   \n",
       "4     Tjauw njuk lin Lin                                              Error   \n",
       "..                   ...                                                ...   \n",
       "995       Florence Angel  Cuma 1 kata yg pantas \"PENIPU\" buat cs tokped....   \n",
       "996         Rian Saputra  Harga barang jauh lebih mahal dari toko lain +...   \n",
       "997            Aniq Zack  Are kore yasui Kara kattoke Ima dake wa chansu...   \n",
       "998   nesha Yurii kirana                                          😵‍💫😵‍💫😵‍💫   \n",
       "999  Wahyu Zidan Saputra  Untuk kurir rekomendasi harusnya sebesar Tokop...   \n",
       "\n",
       "     rating         review_date appVersion  \n",
       "0         2 2024-02-16 13:28:16       None  \n",
       "1         1 2024-02-16 13:20:30      3.252  \n",
       "2         2 2024-02-16 11:54:56      3.232  \n",
       "3         1 2024-02-16 11:45:50      3.252  \n",
       "4         1 2024-02-16 11:44:12       None  \n",
       "..      ...                 ...        ...  \n",
       "995       1 2023-12-28 19:51:46    3.247.1  \n",
       "996       1 2023-12-28 19:26:37      3.242  \n",
       "997       5 2023-12-28 17:46:06    3.247.1  \n",
       "998       5 2023-12-28 17:41:57       None  \n",
       "999       2 2023-12-28 15:56:26    3.247.1  \n",
       "\n",
       "[1000 rows x 5 columns]"
      ]
     },
     "execution_count": 53,
     "metadata": {},
     "output_type": "execute_result"
    }
   ],
   "source": [
    "df"
   ]
  },
  {
   "cell_type": "code",
   "execution_count": 54,
   "metadata": {},
   "outputs": [
    {
     "data": {
      "text/plain": [
       "rating\n",
       "1    528\n",
       "5    290\n",
       "2     91\n",
       "3     52\n",
       "4     39\n",
       "Name: count, dtype: int64"
      ]
     },
     "execution_count": 54,
     "metadata": {},
     "output_type": "execute_result"
    }
   ],
   "source": [
    "df[\"rating\"].value_counts()"
   ]
  }
 ],
 "metadata": {
  "kernelspec": {
   "display_name": "base",
   "language": "python",
   "name": "python3"
  },
  "language_info": {
   "codemirror_mode": {
    "name": "ipython",
    "version": 3
   },
   "file_extension": ".py",
   "mimetype": "text/x-python",
   "name": "python",
   "nbconvert_exporter": "python",
   "pygments_lexer": "ipython3",
   "version": "3.11.4"
  }
 },
 "nbformat": 4,
 "nbformat_minor": 2
}
